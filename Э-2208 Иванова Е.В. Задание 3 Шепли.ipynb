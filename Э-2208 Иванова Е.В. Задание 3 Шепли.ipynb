{
 "cells": [
  {
   "cell_type": "code",
   "execution_count": 32,
   "id": "6ff95a08",
   "metadata": {},
   "outputs": [],
   "source": [
    "import pandas as pd\n",
    "import numpy as np\n",
    "import matplotlib.pyplot as plt\n",
    "import seaborn as sns\n",
    "sns.set();\n",
    "import math\n",
    "\n",
    "from sklearn.model_selection import train_test_split\n",
    "from sklearn.linear_model import LinearRegression\n",
    "from sklearn.metrics import mean_squared_error\n",
    "from sklearn.model_selection import cross_validate\n",
    "\n",
    "import shap\n",
    "import math\n",
    "from sklearn.metrics import r2_score\n",
    "from itertools import chain, combinations"
   ]
  },
  {
   "cell_type": "code",
   "execution_count": 33,
   "id": "6df24a90",
   "metadata": {},
   "outputs": [],
   "source": [
    "df = pd.read_csv(\"https://raw.githubusercontent.com/katarina74/ml_lessons/main/lesson_2/data/techparams_train.csv\")\n",
    "X = df.drop([\"target\", \"index\"], axis=1)\n",
    "y = df[[\"target\"]]"
   ]
  },
  {
   "cell_type": "code",
   "execution_count": 34,
   "id": "54de7f08",
   "metadata": {},
   "outputs": [],
   "source": [
    "train_X, test_X, train_y, test_y = train_test_split(X, y, test_size=0.33, random_state=42)"
   ]
  },
  {
   "cell_type": "code",
   "execution_count": 35,
   "id": "fc0607c4",
   "metadata": {},
   "outputs": [],
   "source": [
    "train_cut_X = train_X[train_X.columns[:5]]\n",
    "test_cut_X = test_X[train_X.columns[:5]]"
   ]
  },
  {
   "cell_type": "code",
   "execution_count": 36,
   "id": "eae98ffa",
   "metadata": {},
   "outputs": [],
   "source": [
    "all_features = train_cut_X.columns"
   ]
  },
  {
   "cell_type": "code",
   "execution_count": 37,
   "id": "d358aad9",
   "metadata": {},
   "outputs": [],
   "source": [
    "i = all_features[0]\n",
    "N = all_features[1:]"
   ]
  },
  {
   "cell_type": "code",
   "execution_count": 39,
   "id": "5e2c2c82",
   "metadata": {},
   "outputs": [
    {
     "data": {
      "text/plain": [
       "[(),\n",
       " ('battery-capacity',),\n",
       " ('charge-time',),\n",
       " ('compression',),\n",
       " ('consumption-mixed',),\n",
       " ('battery-capacity', 'charge-time'),\n",
       " ('battery-capacity', 'compression'),\n",
       " ('battery-capacity', 'consumption-mixed'),\n",
       " ('charge-time', 'compression'),\n",
       " ('charge-time', 'consumption-mixed'),\n",
       " ('compression', 'consumption-mixed'),\n",
       " ('battery-capacity', 'charge-time', 'compression'),\n",
       " ('battery-capacity', 'charge-time', 'consumption-mixed'),\n",
       " ('battery-capacity', 'compression', 'consumption-mixed'),\n",
       " ('charge-time', 'compression', 'consumption-mixed'),\n",
       " ('battery-capacity', 'charge-time', 'compression', 'consumption-mixed')]"
      ]
     },
     "execution_count": 39,
     "metadata": {},
     "output_type": "execute_result"
    }
   ],
   "source": [
    "def set(iterable):\n",
    "    s = list(iterable)\n",
    "    return chain.from_iterable(combinations(s, r) for r in range(len(s)+1))\n",
    "\n",
    "set_N = list(set(N))\n",
    "set_N"
   ]
  },
  {
   "cell_type": "code",
   "execution_count": 40,
   "id": "669afd63",
   "metadata": {},
   "outputs": [
    {
     "data": {
      "text/plain": [
       "[7.844275671031226e+74,\n",
       " 9.28468710963701e+73,\n",
       " 3.686803539176758e+74,\n",
       " 3.377456271422292e+71,\n",
       " 5.216844990633186e+74]"
      ]
     },
     "execution_count": 40,
     "metadata": {},
     "output_type": "execute_result"
    }
   ],
   "source": [
    "selected = []\n",
    "for col in train_cut_X.columns: # цикл по столбцам (важность каждого)\n",
    "    s = list(set(train_cut_X.columns)) # все возможные подмножества\n",
    "    k = 0\n",
    "    for _ in s:\n",
    "        n = (math.factorial(len(s))*math.factorial((len(train_cut_X.columns)+len(s))))/math.factorial(len(train_cut_X.columns))\n",
    "        model = LinearRegression().fit(train_cut_X, train_y)\n",
    "        predictions = model.predict(test_cut_X)\n",
    "        R2 = r2_score(test_y, predictions)\n",
    "\n",
    "        train_cut_X_drop = train_cut_X.drop(col, axis=1)\n",
    "        test_cut_X_drop = test_cut_X.drop(col, axis=1)\n",
    "        reg1 = LinearRegression().fit(train_cut_X_drop, train_y)\n",
    "        predictions1 = reg1.predict(test_cut_X_drop)\n",
    "\n",
    "        R_2 = r2_score(test_y, predictions1)\n",
    "        k += n*(R2**2-R_2**2)\n",
    "    selected.append(k)\n",
    "selected"
   ]
  },
  {
   "cell_type": "code",
   "execution_count": 41,
   "id": "b24f72b2",
   "metadata": {},
   "outputs": [
    {
     "name": "stdout",
     "output_type": "stream",
     "text": [
      "признак: back-suspension, важность: 7.844275671031226e+74\n",
      "признак: battery-capacity, важность: 9.28468710963701e+73\n",
      "признак: charge-time, важность: 3.686803539176758e+74\n",
      "признак: compression, важность: 3.377456271422292e+71\n",
      "признак: consumption-mixed, важность: 5.216844990633186e+74\n"
     ]
    }
   ],
   "source": [
    "#признак - важность\n",
    "importance_dict = dict(zip(train_cut_X.columns, selected))\n",
    "for feature, importance in importance_dict.items():\n",
    "    print(f\"признак: {feature}, важность: {importance}\")"
   ]
  },
  {
   "cell_type": "code",
   "execution_count": 42,
   "id": "0394c33b",
   "metadata": {},
   "outputs": [],
   "source": [
    "def shap_alg(s2, a):\n",
    "  fi = 0\n",
    "  for i in s2:\n",
    "    b = i.copy()\n",
    "    train_cut_X_1 = train_cut_X[i]\n",
    "    test_cut_X_1 = test_cut_X[i]\n",
    "    reg1 = LinearRegression().fit(train_cut_X_1, train_y)\n",
    "    b.append(a)\n",
    "    train_cut_X_2 = train_cut_X[b]\n",
    "    test_cut_X_2 = test_cut_X[b]\n",
    "    reg2 = LinearRegression().fit(train_cut_X_2, train_y)\n",
    "    fi += (math.factorial(len(x))*math.factorial(5- len(i) - 1)/math.factorial(5))*(mean_squared_error(reg1.predict(test_cut_X_1), test_y) - mean_squared_error(reg2.predict(test_cut_X_2), test_y) )\n",
    "  return fi"
   ]
  },
  {
   "cell_type": "code",
   "execution_count": 43,
   "id": "d0ecc7a1",
   "metadata": {},
   "outputs": [
    {
     "name": "stdout",
     "output_type": "stream",
     "text": [
      "MSE: 55826.5154137429\n"
     ]
    }
   ],
   "source": [
    "#MSE для всех признаков\n",
    "MSE = mean_squared_error(test_y, predictions)\n",
    "print('MSE:', MSE)"
   ]
  },
  {
   "cell_type": "code",
   "execution_count": 44,
   "id": "e609698d",
   "metadata": {},
   "outputs": [
    {
     "name": "stdout",
     "output_type": "stream",
     "text": [
      "MSE1: 56310.354332582\n"
     ]
    }
   ],
   "source": [
    "#MSE для всех признаков кроме одного\n",
    "MSE1 = mean_squared_error(test_y, predictions1)\n",
    "print('MSE1:', MSE1)"
   ]
  },
  {
   "cell_type": "code",
   "execution_count": 45,
   "id": "1d6cdc44",
   "metadata": {},
   "outputs": [
    {
     "data": {
      "image/png": "[encoded data removed]",
      "text/plain": [
       "<Figure size 800x310 with 2 Axes>"
      ]
     },
     "metadata": {},
     "output_type": "display_data"
    }
   ],
   "source": [
    "reg1 = LinearRegression().fit(train_cut_X_drop, train_y)\n",
    "explainer = shap.Explainer(reg1, train_cut_X_drop)\n",
    "shap_values = explainer(test_cut_X_drop)\n",
    "\n",
    "shap.summary_plot(shap_values, test_cut_X_drop)"
   ]
  },
  {
   "cell_type": "code",
   "execution_count": null,
   "id": "f9e21189",
   "metadata": {},
   "outputs": [],
   "source": []
  }
 ],
 "metadata": {
  "kernelspec": {
   "display_name": "Python 3 (ipykernel)",
   "language": "python",
   "name": "python3"
  },
  "language_info": {
   "codemirror_mode": {
    "name": "ipython",
    "version": 3
   },
   "file_extension": ".py",
   "mimetype": "text/x-python",
   "name": "python",
   "nbconvert_exporter": "python",
   "pygments_lexer": "ipython3",
   "version": "3.10.9"
  }
 },
 "nbformat": 4,
 "nbformat_minor": 5
}
