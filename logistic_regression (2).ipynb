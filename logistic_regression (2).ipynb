{
  "cells": [
    {
      "cell_type": "code",
      "execution_count": null,
      "metadata": {
        "id": "PLEfjc7ZF2oo"
      },
      "outputs": [],
      "source": [
        "import numpy as np\n",
        "import matplotlib.pyplot as plt\n",
        "\n",
        "from sklearn.datasets import load_digits\n",
        "from sklearn.model_selection import train_test_split\n",
        "\n",
        "np.random.seed(13)"
      ]
    },
    {
      "cell_type": "markdown",
      "metadata": {
        "id": "cBO28yosF2ou"
      },
      "source": [
        "### Данные"
      ]
    },
    {
      "cell_type": "code",
      "execution_count": null,
      "metadata": {
        "id": "WZiO8IkkF2ow"
      },
      "outputs": [],
      "source": [
        "data = load_digits()"
      ]
    },
    {
      "cell_type": "code",
      "execution_count": null,
      "metadata": {
        "id": "VXwbMQk1F2ox"
      },
      "outputs": [],
      "source": [
        "X = data['data']\n",
        "y = (data['target'] >= 5).astype(np.int32)"
      ]
    },
    {
      "cell_type": "code",
      "execution_count": null,
      "metadata": {
        "colab": {
          "base_uri": "https://localhost:8080/",
          "height": 472
        },
        "id": "yrobdhWOF2oy",
        "outputId": "f7b7a1ec-08f5-40e3-a09b-4ddd8d4cf1cb"
      },
      "outputs": [
        {
          "output_type": "display_data",
          "data": {
            "text/plain": [
              "<Figure size 640x480 with 0 Axes>"
            ]
          },
          "metadata": {}
        },
        {
          "output_type": "display_data",
          "data": {
            "text/plain": [
              "<Figure size 480x480 with 1 Axes>"
            ],
            "image/png": "[encoded data removed]"
          },
          "metadata": {}
        },
        {
          "output_type": "stream",
          "name": "stdout",
          "text": [
            "6\n"
          ]
        }
      ],
      "source": [
        "plt.gray()\n",
        "index = np.random.randint(0, len(X) - 1)\n",
        "plt.matshow(X[index].reshape(8, 8))\n",
        "plt.show()\n",
        "print(data.target[index])"
      ]
    },
    {
      "cell_type": "code",
      "execution_count": null,
      "metadata": {
        "id": "ZuTYUNrrF2o0"
      },
      "outputs": [],
      "source": [
        "X_train, X_test, y_train, y_test = train_test_split(X,\n",
        "                                                    y,\n",
        "                                                    train_size=0.77,\n",
        "                                                    shuffle=True)"
      ]
    },
    {
      "cell_type": "code",
      "execution_count": null,
      "metadata": {
        "id": "7NYqWl9nF2o0",
        "outputId": "21f4bee8-24d5-45be-fae8-8b45da8e1ccf"
      },
      "outputs": [
        {
          "data": {
            "text/plain": [
              "((1383, 64), (414, 64))"
            ]
          },
          "execution_count": 6,
          "metadata": {},
          "output_type": "execute_result"
        }
      ],
      "source": [
        "X_train.shape, X_test.shape"
      ]
    },
    {
      "cell_type": "markdown",
      "metadata": {
        "id": "a8HeOx9TF2o1"
      },
      "source": [
        "### Логистическая регрессия"
      ]
    },
    {
      "cell_type": "markdown",
      "metadata": {
        "id": "yPVYiOCyF2o3"
      },
      "source": [
        "Вычисление предсказания логистической регрессией для объекта $x_i \\in \\mathbb{R}^n$ :\n",
        "\n",
        "* $z = w^T x_i + b, \\quad w \\in \\mathbb{R}^n, b \\in \\mathbb{R}$\n",
        "* $a = \\sigma (z)$"
      ]
    },
    {
      "cell_type": "markdown",
      "metadata": {
        "id": "IT2v_jzeF2o3"
      },
      "source": [
        "Сигмоида\n",
        "\n",
        "$$\\sigma(x) = \\frac{1}{1 + e^{-x}}$$\n",
        "\n",
        "![alt text](https://upload.wikimedia.org/wikipedia/commons/a/ac/Logistic-curve.png)"
      ]
    },
    {
      "cell_type": "markdown",
      "metadata": {
        "id": "0f5i_KJ6F2o4"
      },
      "source": [
        "Логистическая фунция потерь:\n",
        "\n",
        "$$L_i(a) = -y_i \\cdot log(a) - (1 - y_i) \\cdot log(1 - a)$$"
      ]
    },
    {
      "cell_type": "markdown",
      "metadata": {
        "id": "YGTz-TSoF2o4"
      },
      "source": [
        "Производные функции по параметрам:\n",
        "\n",
        "$$\\frac{\\partial L_i}{\\partial w} = \\frac{\\partial L_i}{\\partial a} \\cdot \\frac{\\partial a}{\\partial z}\n",
        "\\cdot \\frac{\\partial z}{\\partial w} = \\frac {a - y_i} {a \\cdot (1-a)} \\cdot a \\cdot (1-a) \\cdot x_i = (a-y_i) \\cdot x_i $$\n",
        "\n",
        "$$\\frac{\\partial L_i}{\\partial b} = \\frac{\\partial L_i}{\\partial a} \\cdot \\frac{\\partial a}{\\partial z}\n",
        "\\cdot \\frac{\\partial z}{\\partial b} = \\frac {a - y_i} {a \\cdot (1-a)} \\cdot a \\cdot (1-a) \\cdot 1 = a-y_i $$\n",
        "\n",
        "Используются для минимизации функции потерь $L$ с помощью градиентного спуска."
      ]
    },
    {
      "cell_type": "code",
      "execution_count": null,
      "metadata": {
        "id": "QgEqkURSF2o5"
      },
      "outputs": [],
      "source": [
        "def log_loss(y_true, y_pred):\n",
        "    return -np.sum(y_true * np.log(y_pred) + (1 - y_true) * np.log(1 - y_pred), axis=0) / len(y_true)\n",
        "\n",
        "def sigmoid(x):\n",
        "    return 1 / (1 + np.exp(-x))"
      ]
    },
    {
      "cell_type": "code",
      "execution_count": null,
      "metadata": {
        "id": "YhHnom43F2o5",
        "outputId": "0b653983-2aa9-4f9a-abea-845e7d54075b"
      },
      "outputs": [
        {
          "name": "stdout",
          "output_type": "stream",
          "text": [
            "Число объектов в обучающей выборке: 1383\n",
            "Размерность объекта: 64\n"
          ]
        }
      ],
      "source": [
        "m, n = X_train.shape\n",
        "print(f'Число объектов в обучающей выборке: {m}\\nРазмерность объекта: {n}')"
      ]
    }
  ],
  "metadata": {
    "kernelspec": {
      "display_name": "Python 3",
      "language": "python",
      "name": "python3"
    },
    "language_info": {
      "codemirror_mode": {
        "name": "ipython",
        "version": 3
      },
      "file_extension": ".py",
      "mimetype": "text/x-python",
      "name": "python",
      "nbconvert_exporter": "python",
      "pygments_lexer": "ipython3",
      "version": "3.7.5"
    },
    "colab": {
      "provenance": []
    }
  },
  "nbformat": 4,
  "nbformat_minor": 0
}